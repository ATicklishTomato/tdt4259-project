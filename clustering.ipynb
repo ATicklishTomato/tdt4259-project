{
 "cells": [
  {
   "cell_type": "code",
   "execution_count": null,
   "outputs": [],
   "source": [
    "import os.path\n",
    "\n",
    "# Import\n",
    "import pandas as pd\n",
    "import matplotlib.pyplot as plt\n",
    "import matplotlib\n",
    "from distinctipy import distinctipy\n",
    "\n",
    "# clustering\n",
    "from sklearn.cluster import KMeans, DBSCAN"
   ],
   "metadata": {
    "collapsed": false,
    "pycharm": {
     "name": "#%%\n"
    }
   }
  },
  {
   "cell_type": "markdown",
   "source": [
    "# Clustering of All Points\n",
    "Note: start and end points, the whole month"
   ],
   "metadata": {
    "collapsed": false,
    "pycharm": {
     "name": "#%% md\n"
    }
   }
  },
  {
   "cell_type": "code",
   "execution_count": null,
   "outputs": [],
   "source": [
    "df = pd.read_csv('tripdata_01.csv', nrows=500000)\n",
    "\n",
    "# df.head()\n",
    "\n",
    "df_data = pd.DataFrame()\n",
    "df_data[\"long\"] = df[\"pickup_longitude\"]\n",
    "df_data[\"lat\"] = df[\"pickup_latitude\"]\n",
    "#df_data.head()"
   ],
   "metadata": {
    "collapsed": false,
    "pycharm": {
     "name": "#%%\n"
    }
   }
  },
  {
   "cell_type": "code",
   "execution_count": null,
   "outputs": [],
   "source": [
    "df_data_norm = df_data.copy()\n",
    "df_data_norm[\"long\"] = (df_data_norm[\"long\"]-df_data_norm[\"long\"].mean())/(df_data_norm[\"long\"].max() - df_data_norm[\"long\"].min())\n",
    "df_data_norm[\"lat\"] = (df_data_norm[\"lat\"]-df_data_norm[\"lat\"].mean())/(df_data_norm[\"lat\"].max() - df_data_norm[\"lat\"].min())"
   ],
   "metadata": {
    "collapsed": false,
    "pycharm": {
     "name": "#%%\n"
    }
   }
  },
  {
   "cell_type": "markdown",
   "source": [],
   "metadata": {
    "collapsed": false,
    "pycharm": {
     "name": "#%% md\n"
    }
   }
  },
  {
   "cell_type": "code",
   "execution_count": null,
   "outputs": [],
   "source": [
    "def do_clustering(cluster, df_normed, genPlot, name):\n",
    "    fitedPoints = cluster.fit_predict(df_normed)\n",
    "    findhighest = max(fitedPoints)\n",
    "\n",
    "    if genPlot == True:\n",
    "        colormap = distinctipy.get_colors(findhighest+1)\n",
    "        colormaphex = [matplotlib.colors.to_hex(i) for i in colormap]\n",
    "        fitedColors = [colormaphex[i] for i in fitedPoints]\n",
    "\n",
    "        plt.scatter(df_data_norm[\"long\"], df_data_norm[\"lat\"], c=fitedColors, s=0.008)\n",
    "        plt.savefig(f\"Output/Clustering/{name}.png\")\n",
    "        plt.show()\n",
    "\n",
    "    return  fitedPoints, findhighest"
   ],
   "metadata": {
    "collapsed": false,
    "pycharm": {
     "name": "#%%\n"
    }
   }
  },
  {
   "cell_type": "code",
   "execution_count": null,
   "outputs": [],
   "source": [
    "def do_saveResults(fitedPoints, name):\n",
    "    df_save = pd.DataFrame()\n",
    "    df_save[\"clusters\"] = fitedPoints\n",
    "    df_save.head()\n",
    "    df_save.to_csv(f\"Output/Clustering/{name}.csv\")"
   ],
   "metadata": {
    "collapsed": false,
    "pycharm": {
     "name": "#%%\n"
    }
   }
  },
  {
   "cell_type": "code",
   "execution_count": null,
   "outputs": [],
   "source": [
    "def do_work(algTuple):\n",
    "    alg, data, save, name = algTuple\n",
    "    if os.path.exists(f\"Output/Clustering/{name}.csv\"):\n",
    "        return f\"skip {name}\"\n",
    "    result, _ = do_clustering(alg, data, save, name)\n",
    "    do_saveResults(result, name)\n",
    "    return f\"finished {name}\"\n"
   ],
   "metadata": {
    "collapsed": false,
    "pycharm": {
     "name": "#%%\n"
    }
   }
  },
  {
   "cell_type": "markdown",
   "source": [
    "### k-means\n",
    "- choice of k?"
   ],
   "metadata": {
    "collapsed": false,
    "pycharm": {
     "name": "#%% md\n"
    }
   }
  },
  {
   "cell_type": "code",
   "execution_count": null,
   "outputs": [],
   "source": [
    "# TODO\n",
    "algCol = [(KMeans(n_clusters=15), df_data_norm, True, \"kmeans15\"),\n",
    "          (KMeans(n_clusters=20), df_data_norm, True, \"kmeans20\"),\n",
    "          (KMeans(n_clusters=25), df_data_norm, True, \"kmeans25\"),\n",
    "          (KMeans(n_clusters=30), df_data_norm, True, \"kmeans30\"),\n",
    "          (KMeans(n_clusters=35), df_data_norm, True, \"kmeans35\"),\n",
    "          (KMeans(n_clusters=40), df_data_norm, True, \"kmeans40\"),\n",
    "          (KMeans(n_clusters=45), df_data_norm, True, \"kmeans45\")]\n",
    "\n",
    "for alg in algCol:\n",
    "    print(do_work(alg))"
   ],
   "metadata": {
    "collapsed": false,
    "pycharm": {
     "name": "#%%\n"
    }
   }
  },
  {
   "cell_type": "markdown",
   "source": [
    "### DBSCAN"
   ],
   "metadata": {
    "collapsed": false,
    "pycharm": {
     "name": "#%% md\n"
    }
   }
  },
  {
   "cell_type": "code",
   "execution_count": null,
   "outputs": [],
   "source": [
    "do_clustering(DBSCAN(eps=0.01, min_samples=10), df_data_norm, True, \"DBSCAN\")\n",
    "\n",
    "# TODO\n",
    "#algCol = [(DBSCAN(eps=0.7, min_samples=10), df_data_norm, True, \"DBSCAN\")]\n"
   ],
   "metadata": {
    "collapsed": false,
    "pycharm": {
     "name": "#%%\n"
    }
   }
  },
  {
   "cell_type": "markdown",
   "source": [
    "# Clustering of Start and Endpoints seperately\n",
    "(Note: make colours different for centroids)"
   ],
   "metadata": {
    "collapsed": false,
    "pycharm": {
     "name": "#%% md\n"
    }
   }
  },
  {
   "cell_type": "code",
   "execution_count": null,
   "outputs": [],
   "source": [
    "# TODO"
   ],
   "metadata": {
    "collapsed": false,
    "pycharm": {
     "name": "#%%\n"
    }
   }
  },
  {
   "cell_type": "markdown",
   "metadata": {
    "pycharm": {
     "name": "#%% md\n"
    }
   },
   "source": [
    "### Day of Week (Mon to Sun)"
   ]
  },
  {
   "cell_type": "code",
   "execution_count": null,
   "metadata": {
    "pycharm": {
     "name": "#%%\n"
    }
   },
   "outputs": [],
   "source": [
    "# TODO"
   ]
  },
  {
   "cell_type": "markdown",
   "metadata": {
    "pycharm": {
     "name": "#%% md\n"
    }
   },
   "source": [
    "### Time of Day (normal, rush hour, night)"
   ]
  },
  {
   "cell_type": "code",
   "execution_count": null,
   "metadata": {
    "pycharm": {
     "name": "#%%\n"
    }
   },
   "outputs": [],
   "source": [
    "# TODO"
   ]
  }
 ],
 "metadata": {
  "kernelspec": {
   "display_name": "Python 3.10.8 64-bit (microsoft store)",
   "language": "python",
   "name": "python3"
  },
  "language_info": {
   "name": "python",
   "version": "3.10.8"
  },
  "orig_nbformat": 4,
  "vscode": {
   "interpreter": {
    "hash": "91fb4a7278dfb09f9570d735600e77707a22f2c86370c7d5ec3f290fa319e8cb"
   }
  }
 },
 "nbformat": 4,
 "nbformat_minor": 2
}